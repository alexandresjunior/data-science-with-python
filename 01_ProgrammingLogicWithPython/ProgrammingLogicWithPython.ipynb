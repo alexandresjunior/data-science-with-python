{
  "nbformat": 4,
  "nbformat_minor": 0,
  "metadata": {
    "colab": {
      "name": "ProgrammingLogicWithPython.ipynb",
      "provenance": [],
      "collapsed_sections": [
        "Giuup3_CgG_T",
        "JYVn3AJ6iQ-H",
        "xuVzVqYQpgyx",
        "mPqT-s4pCyAt",
        "qe20jzRDEcWc"
      ]
    },
    "kernelspec": {
      "name": "python3",
      "display_name": "Python 3"
    },
    "language_info": {
      "name": "python"
    }
  },
  "cells": [
    {
      "cell_type": "markdown",
      "source": [
        "# Programming Logic with Python\n",
        "\n"
      ],
      "metadata": {
        "id": "Giuup3_CgG_T"
      }
    },
    {
      "cell_type": "markdown",
      "source": [
        "* It is possible to store information in computer memory through **variables**. \n",
        "\n",
        "* In addition, Python has some [built-in functions](https://docs.python.org/pt-br/3/library/functions.html), although it is possible to create our own **functions**.\n",
        "\n",
        "* Functions in Python are blocks of code that will perform some type of task or **data manipulation**, and may or may not receive **input data (parameters)**."
      ],
      "metadata": {
        "id": "nKMJWEQdmbgn"
      }
    },
    {
      "cell_type": "code",
      "execution_count": null,
      "metadata": {
        "colab": {
          "base_uri": "https://localhost:8080/"
        },
        "id": "vvLArpl_fxPh",
        "outputId": "1bb4f4ff-a6f3-4a94-93f5-8eedad83d320"
      },
      "outputs": [
        {
          "output_type": "stream",
          "name": "stdout",
          "text": [
            "Hello, world!\n"
          ]
        }
      ],
      "source": [
        "print('Hello, world!')"
      ]
    },
    {
      "cell_type": "code",
      "source": [
        "name = 'Alexandre'"
      ],
      "metadata": {
        "id": "LEEhPDrxg4sD"
      },
      "execution_count": null,
      "outputs": []
    },
    {
      "cell_type": "code",
      "source": [
        "print(f'Hello, {name}!')"
      ],
      "metadata": {
        "colab": {
          "base_uri": "https://localhost:8080/"
        },
        "id": "D3fO3-cihOqA",
        "outputId": "359fa4bb-ac99-4333-9c97-f2c7c0907fd1"
      },
      "execution_count": null,
      "outputs": [
        {
          "output_type": "stream",
          "name": "stdout",
          "text": [
            "Hello, Alexandre!\n"
          ]
        }
      ]
    },
    {
      "cell_type": "markdown",
      "source": [
        "# My First Function: Greetings\n",
        "\n"
      ],
      "metadata": {
        "id": "JYVn3AJ6iQ-H"
      }
    },
    {
      "cell_type": "code",
      "source": [
        "def greetings():\n",
        "  name = input(\"What's your name? \")\n",
        "  print(f'Hello, {name}!')"
      ],
      "metadata": {
        "id": "MH7J4eNZiZSv"
      },
      "execution_count": null,
      "outputs": []
    },
    {
      "cell_type": "code",
      "source": [
        "greetings()"
      ],
      "metadata": {
        "colab": {
          "base_uri": "https://localhost:8080/"
        },
        "id": "MnTGYYkwix4f",
        "outputId": "9ae9980c-4d9b-4ac2-aedb-718f4cec96d7"
      },
      "execution_count": null,
      "outputs": [
        {
          "output_type": "stream",
          "name": "stdout",
          "text": [
            "What's your name? Alex\n",
            "Hello, Alex!\n"
          ]
        }
      ]
    },
    {
      "cell_type": "code",
      "source": [
        "def greetings(name):\n",
        "  print(f'Hello, {name}!')"
      ],
      "metadata": {
        "id": "WlAvOR_bo0mr"
      },
      "execution_count": null,
      "outputs": []
    },
    {
      "cell_type": "code",
      "source": [
        "greetings(name)"
      ],
      "metadata": {
        "colab": {
          "base_uri": "https://localhost:8080/"
        },
        "id": "TA-19E56pGLh",
        "outputId": "36b7ee0e-c519-4feb-e155-c357f26b9299"
      },
      "execution_count": null,
      "outputs": [
        {
          "output_type": "stream",
          "name": "stdout",
          "text": [
            "Hello, Alexandre!\n"
          ]
        }
      ]
    },
    {
      "cell_type": "markdown",
      "source": [
        "# Conditional"
      ],
      "metadata": {
        "id": "xuVzVqYQpgyx"
      }
    },
    {
      "cell_type": "code",
      "source": [
        "def checkIfUserCanDrive(age):\n",
        "  if (age >= 18):\n",
        "    print('User can drive!')\n",
        "  else:\n",
        "    print('User can not drive!')"
      ],
      "metadata": {
        "id": "Ven_QUDOpmYS"
      },
      "execution_count": null,
      "outputs": []
    },
    {
      "cell_type": "code",
      "source": [
        "Sage = 20\n",
        "\n",
        "checkIfUserCanDrive(age)"
      ],
      "metadata": {
        "colab": {
          "base_uri": "https://localhost:8080/"
        },
        "id": "I3IuKt38p8R5",
        "outputId": "fdda88bc-46e9-432d-bb6b-1929e58adbe5"
      },
      "execution_count": null,
      "outputs": [
        {
          "output_type": "stream",
          "name": "stdout",
          "text": [
            "User can drive!\n"
          ]
        }
      ]
    },
    {
      "cell_type": "code",
      "source": [
        "age = 15\n",
        "\n",
        "checkIfUserCanDrive(age)"
      ],
      "metadata": {
        "colab": {
          "base_uri": "https://localhost:8080/"
        },
        "id": "7_C96ARop_96",
        "outputId": "674ed8e2-6399-46e4-d00b-4c7e78165161"
      },
      "execution_count": null,
      "outputs": [
        {
          "output_type": "stream",
          "name": "stdout",
          "text": [
            "User can not drive!\n"
          ]
        }
      ]
    },
    {
      "cell_type": "code",
      "source": [
        "def checkIfUserCanDrive():\n",
        "  age = input('How old are you?')\n",
        "  if (age >= 18):\n",
        "    print('User can drive!')\n",
        "  else:\n",
        "    print('User can not drive!')"
      ],
      "metadata": {
        "id": "QjkR1Mjoqac8"
      },
      "execution_count": null,
      "outputs": []
    },
    {
      "cell_type": "code",
      "source": [
        "checkIfUserCanDrive() # It will throw an error!"
      ],
      "metadata": {
        "colab": {
          "base_uri": "https://localhost:8080/",
          "height": 304
        },
        "id": "ExjelPIaquBd",
        "outputId": "fc10a52e-928b-4c78-db79-80edf0ee8154"
      },
      "execution_count": null,
      "outputs": [
        {
          "name": "stdout",
          "output_type": "stream",
          "text": [
            "How old are you?18\n"
          ]
        },
        {
          "output_type": "error",
          "ename": "TypeError",
          "evalue": "ignored",
          "traceback": [
            "\u001b[0;31m---------------------------------------------------------------------------\u001b[0m",
            "\u001b[0;31mTypeError\u001b[0m                                 Traceback (most recent call last)",
            "\u001b[0;32m<ipython-input-44-9fd9cb987bb9>\u001b[0m in \u001b[0;36m<module>\u001b[0;34m()\u001b[0m\n\u001b[0;32m----> 1\u001b[0;31m \u001b[0mcheckIfUserCanDrive\u001b[0m\u001b[0;34m(\u001b[0m\u001b[0;34m)\u001b[0m\u001b[0;34m\u001b[0m\u001b[0;34m\u001b[0m\u001b[0m\n\u001b[0m",
            "\u001b[0;32m<ipython-input-43-8f1235dd4852>\u001b[0m in \u001b[0;36mcheckIfUserCanDrive\u001b[0;34m()\u001b[0m\n\u001b[1;32m      1\u001b[0m \u001b[0;32mdef\u001b[0m \u001b[0mcheckIfUserCanDrive\u001b[0m\u001b[0;34m(\u001b[0m\u001b[0;34m)\u001b[0m\u001b[0;34m:\u001b[0m\u001b[0;34m\u001b[0m\u001b[0;34m\u001b[0m\u001b[0m\n\u001b[1;32m      2\u001b[0m   \u001b[0mage\u001b[0m \u001b[0;34m=\u001b[0m \u001b[0minput\u001b[0m\u001b[0;34m(\u001b[0m\u001b[0;34m'How old are you?'\u001b[0m\u001b[0;34m)\u001b[0m\u001b[0;34m\u001b[0m\u001b[0;34m\u001b[0m\u001b[0m\n\u001b[0;32m----> 3\u001b[0;31m   \u001b[0;32mif\u001b[0m \u001b[0;34m(\u001b[0m\u001b[0mage\u001b[0m \u001b[0;34m>\u001b[0m \u001b[0;36m18\u001b[0m\u001b[0;34m)\u001b[0m\u001b[0;34m:\u001b[0m\u001b[0;34m\u001b[0m\u001b[0;34m\u001b[0m\u001b[0m\n\u001b[0m\u001b[1;32m      4\u001b[0m     \u001b[0mprint\u001b[0m\u001b[0;34m(\u001b[0m\u001b[0;34m'User can drive!'\u001b[0m\u001b[0;34m)\u001b[0m\u001b[0;34m\u001b[0m\u001b[0;34m\u001b[0m\u001b[0m\n\u001b[1;32m      5\u001b[0m   \u001b[0;32melse\u001b[0m\u001b[0;34m:\u001b[0m\u001b[0;34m\u001b[0m\u001b[0;34m\u001b[0m\u001b[0m\n",
            "\u001b[0;31mTypeError\u001b[0m: '>' not supported between instances of 'str' and 'int'"
          ]
        }
      ]
    },
    {
      "cell_type": "code",
      "source": [
        "def checkIfUserCanDrive():\n",
        "  age = input('How old are you? ')\n",
        "  age = int(age)  # It converts a string to integer\n",
        "\n",
        "  if (age >= 18):\n",
        "    print('User can drive!')\n",
        "  else:\n",
        "    print('User can not drive!')"
      ],
      "metadata": {
        "id": "VBi3eu8Aq0c1"
      },
      "execution_count": null,
      "outputs": []
    },
    {
      "cell_type": "code",
      "source": [
        "checkIfUserCanDrive()"
      ],
      "metadata": {
        "colab": {
          "base_uri": "https://localhost:8080/"
        },
        "id": "AfBFJ0qNrBqW",
        "outputId": "08ed2447-817f-426e-b200-4007c140b6b8"
      },
      "execution_count": null,
      "outputs": [
        {
          "output_type": "stream",
          "name": "stdout",
          "text": [
            "How old are you? 18\n",
            "User can drive!\n"
          ]
        }
      ]
    },
    {
      "cell_type": "markdown",
      "source": [
        "# List"
      ],
      "metadata": {
        "id": "mPqT-s4pCyAt"
      }
    },
    {
      "cell_type": "code",
      "source": [
        "age = 22\n",
        "type(age)"
      ],
      "metadata": {
        "colab": {
          "base_uri": "https://localhost:8080/"
        },
        "id": "BIy4hFG9C0Oq",
        "outputId": "a3bb4cf3-4b3f-420b-b83d-372981e23523"
      },
      "execution_count": 1,
      "outputs": [
        {
          "output_type": "execute_result",
          "data": {
            "text/plain": [
              "int"
            ]
          },
          "metadata": {},
          "execution_count": 1
        }
      ]
    },
    {
      "cell_type": "code",
      "source": [
        "name = \"Alexandre\"\n",
        "type(name)"
      ],
      "metadata": {
        "colab": {
          "base_uri": "https://localhost:8080/"
        },
        "id": "olXGn5YaC7C3",
        "outputId": "db1894fa-d868-4032-9b75-b384439bab67"
      },
      "execution_count": 2,
      "outputs": [
        {
          "output_type": "execute_result",
          "data": {
            "text/plain": [
              "str"
            ]
          },
          "metadata": {},
          "execution_count": 2
        }
      ]
    },
    {
      "cell_type": "code",
      "source": [
        "ages = [18, 22, 15, 20]\n",
        "#       0   1   2   3\n",
        "#       0  -3  -2  -1\n",
        "type(ages)"
      ],
      "metadata": {
        "colab": {
          "base_uri": "https://localhost:8080/"
        },
        "id": "mtkJZM9iC_jo",
        "outputId": "d53380bd-b737-461d-8364-dd08cc9aece7"
      },
      "execution_count": 10,
      "outputs": [
        {
          "output_type": "execute_result",
          "data": {
            "text/plain": [
              "list"
            ]
          },
          "metadata": {},
          "execution_count": 10
        }
      ]
    },
    {
      "cell_type": "code",
      "source": [
        "print(ages[2])"
      ],
      "metadata": {
        "colab": {
          "base_uri": "https://localhost:8080/"
        },
        "id": "-yiOCkQUDD9y",
        "outputId": "2f787cf4-fd9e-4316-9cbb-6a1e9895cd7f"
      },
      "execution_count": 11,
      "outputs": [
        {
          "output_type": "stream",
          "name": "stdout",
          "text": [
            "15\n"
          ]
        }
      ]
    },
    {
      "cell_type": "code",
      "source": [
        "print(ages[0:2])"
      ],
      "metadata": {
        "colab": {
          "base_uri": "https://localhost:8080/"
        },
        "id": "R4uYVMJGDLFi",
        "outputId": "9507519d-8a59-401e-cb3b-4a7a37102379"
      },
      "execution_count": 12,
      "outputs": [
        {
          "output_type": "stream",
          "name": "stdout",
          "text": [
            "[18, 22]\n"
          ]
        }
      ]
    },
    {
      "cell_type": "code",
      "source": [
        "print(ages[1:])"
      ],
      "metadata": {
        "colab": {
          "base_uri": "https://localhost:8080/"
        },
        "id": "Qg6WrmKbDlsK",
        "outputId": "7e636fda-cd46-4088-b380-7ec4161bb688"
      },
      "execution_count": 13,
      "outputs": [
        {
          "output_type": "stream",
          "name": "stdout",
          "text": [
            "[22, 15, 20]\n"
          ]
        }
      ]
    },
    {
      "cell_type": "code",
      "source": [
        "print(ages[-1])"
      ],
      "metadata": {
        "colab": {
          "base_uri": "https://localhost:8080/"
        },
        "id": "quJL1H3UDtaS",
        "outputId": "4305ea48-3df4-4817-f160-e8268d36085c"
      },
      "execution_count": 14,
      "outputs": [
        {
          "output_type": "stream",
          "name": "stdout",
          "text": [
            "20\n"
          ]
        }
      ]
    },
    {
      "cell_type": "code",
      "source": [
        "print(ages[-2])"
      ],
      "metadata": {
        "colab": {
          "base_uri": "https://localhost:8080/"
        },
        "id": "8fRAEUkaDxVy",
        "outputId": "682bc9b6-6a56-49ea-a97d-b92818647f4b"
      },
      "execution_count": 15,
      "outputs": [
        {
          "output_type": "stream",
          "name": "stdout",
          "text": [
            "15\n"
          ]
        }
      ]
    },
    {
      "cell_type": "code",
      "source": [
        "print(ages[:-1])"
      ],
      "metadata": {
        "colab": {
          "base_uri": "https://localhost:8080/"
        },
        "id": "BgTovt_0EI4J",
        "outputId": "78ea5b0e-5b22-470c-b58b-edd639035d93"
      },
      "execution_count": 16,
      "outputs": [
        {
          "output_type": "stream",
          "name": "stdout",
          "text": [
            "[18, 22, 15]\n"
          ]
        }
      ]
    },
    {
      "cell_type": "markdown",
      "source": [
        "# Loops"
      ],
      "metadata": {
        "id": "qe20jzRDEcWc"
      }
    },
    {
      "cell_type": "code",
      "source": [
        "# for loop outside function\n",
        "\n",
        "def checkIfUserCanDrive(age):\n",
        "  if (age >= 18):\n",
        "    print(f'{age}-year-old user can drive!')\n",
        "  else:\n",
        "    print(f'{age}-year-old user can not drive!')"
      ],
      "metadata": {
        "id": "ID8HoXT8Ed1x"
      },
      "execution_count": 18,
      "outputs": []
    },
    {
      "cell_type": "code",
      "source": [
        "for age in ages:\n",
        "  checkIfUserCanDrive(age)"
      ],
      "metadata": {
        "colab": {
          "base_uri": "https://localhost:8080/"
        },
        "id": "uMe0Dkv0Euff",
        "outputId": "1de331b5-32ee-4b8b-b5a0-c26c29c8d7df"
      },
      "execution_count": 19,
      "outputs": [
        {
          "output_type": "stream",
          "name": "stdout",
          "text": [
            "18-year-old user can drive!\n",
            "22-year-old user can drive!\n",
            "15-year-old user can not drive!\n",
            "20-year-old user can drive!\n"
          ]
        }
      ]
    },
    {
      "cell_type": "code",
      "source": [
        "# for loop inside function\n",
        "\n",
        "def checkIfUserCanDrive(ages):\n",
        "  for age in ages:\n",
        "    if (age >= 18):\n",
        "      print(f'{age}-year-old user can drive!')\n",
        "    else:\n",
        "      print(f'{age}-year-old user can not drive!')"
      ],
      "metadata": {
        "id": "MYyFifsfFDAb"
      },
      "execution_count": 20,
      "outputs": []
    },
    {
      "cell_type": "code",
      "source": [
        "checkIfUserCanDrive(ages = [18, 22, 15, 20])"
      ],
      "metadata": {
        "colab": {
          "base_uri": "https://localhost:8080/"
        },
        "id": "OlpzAgmHFinL",
        "outputId": "60c844b9-d499-4c51-a7ed-54cbc15024af"
      },
      "execution_count": 22,
      "outputs": [
        {
          "output_type": "stream",
          "name": "stdout",
          "text": [
            "18-year-old user can drive!\n",
            "22-year-old user can drive!\n",
            "15-year-old user can not drive!\n",
            "20-year-old user can drive!\n"
          ]
        }
      ]
    },
    {
      "cell_type": "markdown",
      "source": [
        "# Boolean Type"
      ],
      "metadata": {
        "id": "eaukabvUF3FK"
      }
    },
    {
      "cell_type": "code",
      "source": [
        "age = 18\n",
        "age >= 18"
      ],
      "metadata": {
        "colab": {
          "base_uri": "https://localhost:8080/"
        },
        "id": "k99dbNrmF5qX",
        "outputId": "89866bf6-a729-46e9-9f26-adee3947cbd8"
      },
      "execution_count": 23,
      "outputs": [
        {
          "output_type": "execute_result",
          "data": {
            "text/plain": [
              "True"
            ]
          },
          "metadata": {},
          "execution_count": 23
        }
      ]
    },
    {
      "cell_type": "code",
      "source": [
        "age = 15\n",
        "age >= 18"
      ],
      "metadata": {
        "colab": {
          "base_uri": "https://localhost:8080/"
        },
        "id": "Ro6wF573GGyK",
        "outputId": "15a70924-809e-4bc6-eb13-f331ae2d021a"
      },
      "execution_count": 25,
      "outputs": [
        {
          "output_type": "execute_result",
          "data": {
            "text/plain": [
              "False"
            ]
          },
          "metadata": {},
          "execution_count": 25
        }
      ]
    },
    {
      "cell_type": "code",
      "source": [
        "def checkIfUserCanDrive(ages, permissions):\n",
        "  for age in ages:\n",
        "    if (age >= 18):\n",
        "      permissions.append(True)\n",
        "    else:\n",
        "      permissions.append(False)"
      ],
      "metadata": {
        "id": "xO9G8PFQGYIr"
      },
      "execution_count": 36,
      "outputs": []
    },
    {
      "cell_type": "code",
      "source": [
        "permissions = []\n",
        "\n",
        "ages = [20, 14, 40]\n",
        "\n",
        "checkIfUserCanDrive(ages, permissions)\n",
        "\n",
        "permissions"
      ],
      "metadata": {
        "colab": {
          "base_uri": "https://localhost:8080/"
        },
        "id": "zX67Tok8GKbS",
        "outputId": "7f24a4da-e31c-4ed3-a069-6eb7eb3d1bd9"
      },
      "execution_count": 39,
      "outputs": [
        {
          "output_type": "execute_result",
          "data": {
            "text/plain": [
              "[True, False, True]"
            ]
          },
          "metadata": {},
          "execution_count": 39
        }
      ]
    },
    {
      "cell_type": "code",
      "source": [
        "for permission in permissions:\n",
        "  if permission:            # permission == True\n",
        "    print(f'{age}-year-old user can drive!')\n",
        "  else:\n",
        "    print(f'{age}-year-old user can not drive!')"
      ],
      "metadata": {
        "colab": {
          "base_uri": "https://localhost:8080/"
        },
        "id": "IvfsLHUpG0q6",
        "outputId": "530ee4b7-2c5d-4886-ac0f-d236397171f3"
      },
      "execution_count": 41,
      "outputs": [
        {
          "output_type": "stream",
          "name": "stdout",
          "text": [
            "15-year-old user can drive!\n",
            "15-year-old user can not drive!\n",
            "15-year-old user can drive!\n"
          ]
        }
      ]
    },
    {
      "cell_type": "markdown",
      "source": [
        "# Types in a List"
      ],
      "metadata": {
        "id": "dgcF9SadKvMe"
      }
    },
    {
      "cell_type": "code",
      "source": [
        "data = ['Alexandre', 27, True, 9.5]\n",
        "\n",
        "for element in data:\n",
        "  print(f'The element {element} is of type ', type(element))"
      ],
      "metadata": {
        "colab": {
          "base_uri": "https://localhost:8080/"
        },
        "id": "a2A13dEjLenL",
        "outputId": "82c77fd1-940e-46b0-bbf1-e7634febb5f3"
      },
      "execution_count": 44,
      "outputs": [
        {
          "output_type": "stream",
          "name": "stdout",
          "text": [
            "The element Alexandre is of type  <class 'str'>\n",
            "The element 27 is of type  <class 'int'>\n",
            "The element True is of type  <class 'bool'>\n",
            "The element 9.5 is of type  <class 'float'>\n"
          ]
        }
      ]
    },
    {
      "cell_type": "markdown",
      "source": [
        "# Imports"
      ],
      "metadata": {
        "id": "L4pe-iW4MUdj"
      }
    },
    {
      "cell_type": "markdown",
      "source": [
        "For further details about `random` library, check [this link](https://docs.python.org/3/library/random.html)."
      ],
      "metadata": {
        "id": "2fo_VN9GQsri"
      }
    },
    {
      "cell_type": "code",
      "source": [
        "from random import randrange, seed\n",
        "\n",
        "randrange(0, 11)"
      ],
      "metadata": {
        "colab": {
          "base_uri": "https://localhost:8080/"
        },
        "id": "YyNKOP7xMW83",
        "outputId": "0565e8d9-4db8-48e5-a862-ee7587cfacad"
      },
      "execution_count": 57,
      "outputs": [
        {
          "output_type": "execute_result",
          "data": {
            "text/plain": [
              "9"
            ]
          },
          "metadata": {},
          "execution_count": 57
        }
      ]
    },
    {
      "cell_type": "code",
      "source": [
        "grades_math = []\n",
        "\n",
        "for grades in range(8):\n",
        "  grades_math.append(randrange(0, 11))\n",
        "\n",
        "print(grades_math)"
      ],
      "metadata": {
        "colab": {
          "base_uri": "https://localhost:8080/"
        },
        "id": "b6dxTO_RMz9z",
        "outputId": "adf61e70-203a-4102-9e3a-d222fe188d84"
      },
      "execution_count": 82,
      "outputs": [
        {
          "output_type": "stream",
          "name": "stdout",
          "text": [
            "[9, 0, 3, 7, 7, 4, 10, 2]\n"
          ]
        }
      ]
    },
    {
      "cell_type": "code",
      "source": [
        "len(grades_math)"
      ],
      "metadata": {
        "colab": {
          "base_uri": "https://localhost:8080/"
        },
        "id": "sUCxac2YNNML",
        "outputId": "b0c3ca14-e85f-43c4-b7e3-4a4698b435c6"
      },
      "execution_count": 66,
      "outputs": [
        {
          "output_type": "execute_result",
          "data": {
            "text/plain": [
              "4"
            ]
          },
          "metadata": {},
          "execution_count": 66
        }
      ]
    },
    {
      "cell_type": "code",
      "source": [
        "grades_math = []\n",
        "\n",
        "seed(10)      # generator\n",
        "\n",
        "for grades in range(8):\n",
        "  grades_math.append(randrange(0, 11))\n",
        "\n",
        "print(grades_math)"
      ],
      "metadata": {
        "colab": {
          "base_uri": "https://localhost:8080/"
        },
        "id": "kVOk0CToNo5z",
        "outputId": "b2308677-bf97-4a24-f57d-29dc814ed237"
      },
      "execution_count": 83,
      "outputs": [
        {
          "output_type": "stream",
          "name": "stdout",
          "text": [
            "[9, 0, 6, 7, 9, 0, 3, 7]\n"
          ]
        }
      ]
    },
    {
      "cell_type": "markdown",
      "source": [
        "# Graphics"
      ],
      "metadata": {
        "id": "1njGza4MSns7"
      }
    },
    {
      "cell_type": "markdown",
      "source": [
        "For further details about `matplotlib`, check [this link](https://matplotlib.org/)."
      ],
      "metadata": {
        "id": "yFe61RBeSvdn"
      }
    },
    {
      "cell_type": "code",
      "source": [
        "import matplotlib.pyplot as plt\n",
        "\n",
        "x = list(range(1, 9))       # test number\n",
        "y = grades_math             # grades\n",
        "\n",
        "plt.plot(x, y, marker='o')\n",
        "plt.title('Math Grades')\n",
        "plt.xlabel('Tests')\n",
        "plt.ylabel('Grades')\n",
        "plt.show()"
      ],
      "metadata": {
        "colab": {
          "base_uri": "https://localhost:8080/",
          "height": 295
        },
        "id": "Fz8ROnlGS1fE",
        "outputId": "4a9aeadb-8a98-49d9-fd57-9c6dcffea93c"
      },
      "execution_count": 84,
      "outputs": [
        {
          "output_type": "display_data",
          "data": {
            "text/plain": [
              "<Figure size 432x288 with 1 Axes>"
            ],
            "image/png": "[encoded data removed]"
          },
          "metadata": {
            "needs_background": "light"
          }
        }
      ]
    }
  ]
}